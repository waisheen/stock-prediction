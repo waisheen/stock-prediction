{
 "cells": [
  {
   "cell_type": "code",
   "execution_count": 19,
   "metadata": {},
   "outputs": [],
   "source": [
    "import yfinance as yf\n",
    "import pandas as pd\n",
    "import psycopg2\n"
   ]
  },
  {
   "cell_type": "code",
   "execution_count": 2,
   "metadata": {},
   "outputs": [],
   "source": [
    "# Define the stocks to pull data from\n",
    "stocks = ['AMZN', 'TSLA', 'NVDA', 'AAPL', 'MSFT', 'META']\n",
    "\n",
    "# Adjust period & interval to pull data from (1 day, 5 min)\n",
    "period = '1d'\n",
    "interval= '5m'\n",
    "date_format = \"%b-%d-%y %H:%M\""
   ]
  },
  {
   "cell_type": "code",
   "execution_count": 3,
   "metadata": {},
   "outputs": [
    {
     "name": "stderr",
     "output_type": "stream",
     "text": [
      "[*********************100%%**********************]  1 of 1 completed\n",
      "[*********************100%%**********************]  1 of 1 completed\n",
      "[*********************100%%**********************]  1 of 1 completed\n",
      "[*********************100%%**********************]  1 of 1 completed\n",
      "[*********************100%%**********************]  1 of 1 completed\n",
      "[*********************100%%**********************]  1 of 1 completed\n"
     ]
    }
   ],
   "source": [
    "stock_data = {}\n",
    "\n",
    "for stock in stocks:\n",
    "    df = yf.download(stock, period=period, interval=interval) # Set interval, currently 5 minute intervals\n",
    "    \n",
    "    # Check if data is empty\n",
    "    if not df.empty:\n",
    "        df.index = df.index.strftime(date_format) # Standardise datetime format\n",
    "        df.reset_index(inplace=True)\n",
    "    \n",
    "    # Store in dictionary\n",
    "    stock_data[stock] = df"
   ]
  },
  {
   "cell_type": "code",
   "execution_count": 13,
   "metadata": {},
   "outputs": [],
   "source": [
    "# Input DB params\n",
    "params = {\n",
    "    'dbname': \n",
    "    'user':\n",
    "    'password': \n",
    "    'host': \n",
    "    'port': \n",
    "}\n",
    "\n",
    "conn = psycopg2.connect(**params)\n",
    "cur = conn.cursor()\n",
    "\n",
    "insert_query = \"\"\"\n",
    "INSERT INTO price (company_id, date, open_price, close_price, high_price, low_price, volume)\n",
    "VALUES (%s, %s, %s, %s, %s, %s, %s);\n",
    "\"\"\""
   ]
  },
  {
   "cell_type": "code",
   "execution_count": 11,
   "metadata": {},
   "outputs": [],
   "source": [
    "# Extract company name and sector from yahoo finance for companies not in database\n",
    "def get_stock_info(ticker_symbol):\n",
    "    stock = yf.Ticker(ticker_symbol)\n",
    "    \n",
    "    try:\n",
    "        name = stock.info['longName']\n",
    "        sector = stock.info['sector']\n",
    "        return {'Name': name, 'Sector': sector}\n",
    "    except KeyError as e:\n",
    "        return f\"Could not find '{e.args[0]}' information for ticker symbol {ticker_symbol}\"\n",
    "    \n",
    "\n",
    "# Get the company_id if it exists, add the company_id if not\n",
    "def get_or_create_company_id(ticker_symbol, cur):\n",
    "    # Check if the company exists\n",
    "    cur.execute(\"SELECT company_id FROM company WHERE ticker_symbol = %s\", (ticker_symbol,))\n",
    "    result = cur.fetchone()\n",
    "    \n",
    "    if result:\n",
    "        return result  # Return existing company_id\n",
    "    else:\n",
    "        # Get company info\n",
    "        company_info = get_stock_info(ticker_symbol)\n",
    "        cur.execute(\"INSERT INTO company (company_name, ticker_symbol, sector) VALUES (%s, %s, %s) RETURNING company_id\",\n",
    "                    (company_info['Name'], ticker_symbol, company_info['Sector']))\n",
    "        company_id = cur.fetchone()[0]\n",
    "        return company_id"
   ]
  },
  {
   "cell_type": "code",
   "execution_count": 15,
   "metadata": {},
   "outputs": [],
   "source": [
    "for stock, df in stock_data.items():\n",
    "    for _, row in df.iterrows():\n",
    "        # Get company id\n",
    "        company_id = get_or_create_company_id(stock, cur)\n",
    "    \n",
    "        # Prepare data for insertion\n",
    "        data_tuple = (\n",
    "            company_id,  # Using the stock symbol directly\n",
    "            pd.to_datetime(row['Datetime'], format=date_format),\n",
    "            row['Open'],\n",
    "            row['Close'],\n",
    "            row['High'],\n",
    "            row['Low'],\n",
    "            row['Volume']\n",
    "        )\n",
    "        # Execute INSERT command\n",
    "        cur.execute(insert_query, data_tuple)\n",
    "\n",
    "# Commit the transaction\n",
    "conn.commit()"
   ]
  },
  {
   "cell_type": "code",
   "execution_count": 17,
   "metadata": {},
   "outputs": [
    {
     "name": "stdout",
     "output_type": "stream",
     "text": [
      "[(2, 'Amazon', 'AMZN', 'Tech'), (3, 'TSLA', 'TSLA', 'Tech'), (4, 'NVDA', 'NVDA', 'Tech'), (5, 'AAPL', 'AAPL', 'Tech'), (6, 'MSFT', 'MSFT', 'Tech'), (7, 'META', 'META', 'Tech')]\n"
     ]
    }
   ],
   "source": [
    "conn = psycopg2.connect(**params)\n",
    "cur = conn.cursor()\n",
    "cur.execute(\"SELECT * FROM company\")\n",
    "result = cur.fetchall()\n",
    "print(result)"
   ]
  }
 ],
 "metadata": {
  "kernelspec": {
   "display_name": "Python 3",
   "language": "python",
   "name": "python3"
  },
  "language_info": {
   "codemirror_mode": {
    "name": "ipython",
    "version": 3
   },
   "file_extension": ".py",
   "mimetype": "text/x-python",
   "name": "python",
   "nbconvert_exporter": "python",
   "pygments_lexer": "ipython3",
   "version": "3.10.11"
  }
 },
 "nbformat": 4,
 "nbformat_minor": 2
}
